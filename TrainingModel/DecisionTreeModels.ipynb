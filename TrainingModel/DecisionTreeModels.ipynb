{
 "cells": [
  {
   "cell_type": "code",
   "execution_count": 1,
   "id": "952bd4ae",
   "metadata": {},
   "outputs": [],
   "source": [
    "import numpy as np\n",
    "import matplotlib.pyplot as plt\n",
    "import pandas as pd"
   ]
  },
  {
   "cell_type": "code",
   "execution_count": 2,
   "id": "4c16139b",
   "metadata": {},
   "outputs": [],
   "source": [
    "df = pd.read_csv(\"../Data/medicalCost-training.csv\")"
   ]
  },
  {
   "cell_type": "code",
   "execution_count": 3,
   "id": "1e75794c",
   "metadata": {},
   "outputs": [
    {
     "data": {
      "text/html": [
       "<div>\n",
       "<style scoped>\n",
       "    .dataframe tbody tr th:only-of-type {\n",
       "        vertical-align: middle;\n",
       "    }\n",
       "\n",
       "    .dataframe tbody tr th {\n",
       "        vertical-align: top;\n",
       "    }\n",
       "\n",
       "    .dataframe thead th {\n",
       "        text-align: right;\n",
       "    }\n",
       "</style>\n",
       "<table border=\"1\" class=\"dataframe\">\n",
       "  <thead>\n",
       "    <tr style=\"text-align: right;\">\n",
       "      <th></th>\n",
       "      <th>age</th>\n",
       "      <th>sex</th>\n",
       "      <th>bmi</th>\n",
       "      <th>children</th>\n",
       "      <th>smoker</th>\n",
       "      <th>region</th>\n",
       "      <th>charges</th>\n",
       "    </tr>\n",
       "  </thead>\n",
       "  <tbody>\n",
       "    <tr>\n",
       "      <th>0</th>\n",
       "      <td>18</td>\n",
       "      <td>1</td>\n",
       "      <td>31.730</td>\n",
       "      <td>0</td>\n",
       "      <td>1</td>\n",
       "      <td>0</td>\n",
       "      <td>33732.68670</td>\n",
       "    </tr>\n",
       "    <tr>\n",
       "      <th>1</th>\n",
       "      <td>20</td>\n",
       "      <td>1</td>\n",
       "      <td>30.685</td>\n",
       "      <td>0</td>\n",
       "      <td>1</td>\n",
       "      <td>0</td>\n",
       "      <td>33475.81715</td>\n",
       "    </tr>\n",
       "    <tr>\n",
       "      <th>2</th>\n",
       "      <td>52</td>\n",
       "      <td>0</td>\n",
       "      <td>37.525</td>\n",
       "      <td>2</td>\n",
       "      <td>0</td>\n",
       "      <td>1</td>\n",
       "      <td>33471.97189</td>\n",
       "    </tr>\n",
       "    <tr>\n",
       "      <th>3</th>\n",
       "      <td>19</td>\n",
       "      <td>0</td>\n",
       "      <td>30.020</td>\n",
       "      <td>0</td>\n",
       "      <td>1</td>\n",
       "      <td>1</td>\n",
       "      <td>33307.55080</td>\n",
       "    </tr>\n",
       "    <tr>\n",
       "      <th>4</th>\n",
       "      <td>42</td>\n",
       "      <td>1</td>\n",
       "      <td>28.310</td>\n",
       "      <td>3</td>\n",
       "      <td>1</td>\n",
       "      <td>1</td>\n",
       "      <td>32787.45859</td>\n",
       "    </tr>\n",
       "  </tbody>\n",
       "</table>\n",
       "</div>"
      ],
      "text/plain": [
       "   age  sex     bmi  children  smoker  region      charges\n",
       "0   18    1  31.730         0       1       0  33732.68670\n",
       "1   20    1  30.685         0       1       0  33475.81715\n",
       "2   52    0  37.525         2       0       1  33471.97189\n",
       "3   19    0  30.020         0       1       1  33307.55080\n",
       "4   42    1  28.310         3       1       1  32787.45859"
      ]
     },
     "execution_count": 3,
     "metadata": {},
     "output_type": "execute_result"
    }
   ],
   "source": [
    "df.head()"
   ]
  },
  {
   "cell_type": "code",
   "execution_count": 5,
   "id": "51632b71",
   "metadata": {},
   "outputs": [],
   "source": [
    "x = df.drop(\"charges\", axis = 1).values\n",
    "y = df[\"charges\"].values"
   ]
  },
  {
   "cell_type": "code",
   "execution_count": 8,
   "id": "4f98d455",
   "metadata": {},
   "outputs": [],
   "source": [
    "from sklearn.model_selection import train_test_split\n",
    "x_train,x_test,y_train,y_test=train_test_split(x, y, test_size=0.33, random_state=42)"
   ]
  },
  {
   "cell_type": "markdown",
   "id": "e8bb7f9e",
   "metadata": {},
   "source": [
    "## k = kaç tane features istiyorsak onu veriyoruz en iyilerinden k tanesini alıyor"
   ]
  },
  {
   "cell_type": "code",
   "execution_count": 18,
   "id": "67bf387e",
   "metadata": {},
   "outputs": [
    {
     "name": "stdout",
     "output_type": "stream",
     "text": [
      "Feature 0: 1.502572\n",
      "Feature 1: 0.130524\n",
      "Feature 2: 0.038366\n",
      "Feature 3: 0.144290\n",
      "Feature 4: 0.210864\n",
      "Feature 5: 0.076182\n"
     ]
    }
   ],
   "source": [
    "from sklearn.feature_selection import SelectKBest\n",
    "from sklearn.feature_selection import f_regression\n",
    "from sklearn.feature_selection import mutual_info_regression\n",
    "from sklearn.feature_selection import chi2\n",
    "\n",
    "# feature selection\n",
    "def select_features(x_train, y_train, x_test):\n",
    "\t# configure to select all features\n",
    "\tfs = SelectKBest(score_func=mutual_info_regression, k=4)\n",
    "\t# learn relationship from training data\n",
    "\tfs.fit(x_train, y_train)\n",
    "\t# transform train input data\n",
    "\tx_train_fs = fs.transform(x_train)\n",
    "\t# transform test input data\n",
    "\tx_test_fs = fs.transform(x_test)\n",
    "\treturn x_train_fs, x_test_fs, fs\n",
    "\n",
    "x_train_fs, x_test_fs, fs = select_features(x_train, y_train, x_test)\n",
    "# what are scores for the features\n",
    "for i in range(len(fs.scores_)):\n",
    "\tprint('Feature %d: %f' % (i, fs.scores_[i]))"
   ]
  },
  {
   "cell_type": "code",
   "execution_count": 19,
   "id": "5728923d",
   "metadata": {},
   "outputs": [
    {
     "data": {
      "text/plain": [
       "array([[35.  ,  1.  , 27.74,  2.  ,  1.  ,  0.  ],\n",
       "       [56.  ,  0.  , 35.8 ,  1.  ,  0.  ,  3.  ],\n",
       "       [62.  ,  0.  , 31.73,  0.  ,  0.  ,  0.  ],\n",
       "       ...,\n",
       "       [19.  ,  0.  , 17.8 ,  0.  ,  0.  ,  3.  ],\n",
       "       [19.  ,  0.  , 28.6 ,  5.  ,  0.  ,  3.  ],\n",
       "       [19.  ,  0.  , 28.9 ,  0.  ,  0.  ,  3.  ]])"
      ]
     },
     "execution_count": 19,
     "metadata": {},
     "output_type": "execute_result"
    }
   ],
   "source": [
    "x_train"
   ]
  },
  {
   "cell_type": "code",
   "execution_count": 20,
   "id": "636b812a",
   "metadata": {},
   "outputs": [
    {
     "data": {
      "text/plain": [
       "array([[35.,  1.,  2.,  1.],\n",
       "       [56.,  0.,  1.,  0.],\n",
       "       [62.,  0.,  0.,  0.],\n",
       "       ...,\n",
       "       [19.,  0.,  0.,  0.],\n",
       "       [19.,  0.,  5.,  0.],\n",
       "       [19.,  0.,  0.,  0.]])"
      ]
     },
     "execution_count": 20,
     "metadata": {},
     "output_type": "execute_result"
    }
   ],
   "source": [
    "x_train_fs"
   ]
  },
  {
   "cell_type": "code",
   "execution_count": 21,
   "id": "1c60f52a",
   "metadata": {},
   "outputs": [],
   "source": [
    "from sklearn.tree import DecisionTreeRegressor\n",
    "regressor=DecisionTreeRegressor(random_state=1)\n",
    "regressor.fit(x_train_fs,y_train)\n",
    "y_pred=regressor.predict(x_test_fs)"
   ]
  },
  {
   "cell_type": "code",
   "execution_count": 22,
   "id": "e2470e96",
   "metadata": {},
   "outputs": [],
   "source": [
    "from sklearn.metrics import r2_score\n",
    "D2score = r2_score(y_test,y_pred)"
   ]
  },
  {
   "cell_type": "code",
   "execution_count": 23,
   "id": "927e5961",
   "metadata": {},
   "outputs": [
    {
     "name": "stdout",
     "output_type": "stream",
     "text": [
      "0.30111207881782975\n"
     ]
    }
   ],
   "source": [
    "print(D2score)"
   ]
  },
  {
   "cell_type": "code",
   "execution_count": 24,
   "id": "b02007d4",
   "metadata": {},
   "outputs": [
    {
     "data": {
      "text/plain": [
       "['../Models/medical_decision_tree_model.pkl']"
      ]
     },
     "execution_count": 24,
     "metadata": {},
     "output_type": "execute_result"
    }
   ],
   "source": [
    "#Model olarak dışarı alıyoruz\n",
    "import joblib\n",
    "joblib.dump(regressor, \"../Models/medical_decision_tree_model.pkl\")"
   ]
  },
  {
   "cell_type": "code",
   "execution_count": null,
   "id": "4f97016e",
   "metadata": {},
   "outputs": [],
   "source": []
  }
 ],
 "metadata": {
  "hide_input": false,
  "kernelspec": {
   "display_name": "Python 3",
   "language": "python",
   "name": "python3"
  },
  "language_info": {
   "codemirror_mode": {
    "name": "ipython",
    "version": 3
   },
   "file_extension": ".py",
   "mimetype": "text/x-python",
   "name": "python",
   "nbconvert_exporter": "python",
   "pygments_lexer": "ipython3",
   "version": "3.8.8"
  }
 },
 "nbformat": 4,
 "nbformat_minor": 5
}
